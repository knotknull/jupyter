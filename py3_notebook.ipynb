{
 "cells": [
  {
   "cell_type": "code",
   "execution_count": 25,
   "metadata": {
    "collapsed": true
   },
   "outputs": [],
   "source": [
    "# This is a comment"
   ]
  },
  {
   "cell_type": "markdown",
   "metadata": {},
   "source": [
    "This is just a text box that says to import your librarys below (categorize this cell as \"markdown\" under Cell menu)\n",
    "\n",
    "You can easily create a new conda environment to use different notebook kernels:\n",
    "\n",
    "# Python 2.7\n",
    "conda create -n py27 python=2.7 ipykernel\n",
    "# Python 3.5\n",
    "conda create -n py35 python=3.5 ipykernel\n",
    "\n",
    "Restart the application and the two kernels should be available to you. Very important: don't forget to (de)activate the kernel you (don't) need with the following commands:\n",
    "\n",
    "source activate py27\n",
    "source deactivate"
   ]
  },
  {
   "cell_type": "raw",
   "metadata": {},
   "source": [
    "# can also run \"R\" via:\n",
    "conda install -c r r-essentials\n",
    "\n",
    "These \"essentials\" include the packages dplyr, shiny, ggplot2, tidyr, caret and nnet. If you don't want to install the essentials in your current environment, you can use the following command to create a new environment just for the R essentials:\n",
    "\n",
    "conda create -n my-r-env -c r r-essentials \n",
    "\n",
    "Open up the notebook application to start working with R with the usual command. \n",
    "\n",
    "If you now want to install additional R packages to elaborate your data science project, you can either build a Conda R package by running, for example:\n",
    "\n",
    "conda skeleton cran ldavis\n",
    "conda build r-ldavis/"
   ]
  },
  {
   "cell_type": "code",
   "execution_count": 26,
   "metadata": {
    "collapsed": true
   },
   "outputs": [],
   "source": [
    "import pandas as pd\n",
    "import numpy as np"
   ]
  },
  {
   "cell_type": "code",
   "execution_count": 27,
   "metadata": {},
   "outputs": [
    {
     "data": {
      "text/html": [
       "<div>\n",
       "<style>\n",
       "    .dataframe thead tr:only-child th {\n",
       "        text-align: right;\n",
       "    }\n",
       "\n",
       "    .dataframe thead th {\n",
       "        text-align: left;\n",
       "    }\n",
       "\n",
       "    .dataframe tbody tr th {\n",
       "        vertical-align: top;\n",
       "    }\n",
       "</style>\n",
       "<table border=\"1\" class=\"dataframe\">\n",
       "  <thead>\n",
       "    <tr style=\"text-align: right;\">\n",
       "      <th></th>\n",
       "      <th>A</th>\n",
       "      <th>B</th>\n",
       "      <th>C</th>\n",
       "      <th>F</th>\n",
       "    </tr>\n",
       "  </thead>\n",
       "  <tbody>\n",
       "    <tr>\n",
       "      <th>0</th>\n",
       "      <td>1</td>\n",
       "      <td>2</td>\n",
       "      <td>3</td>\n",
       "      <td>4</td>\n",
       "    </tr>\n",
       "    <tr>\n",
       "      <th>1</th>\n",
       "      <td>4</td>\n",
       "      <td>5</td>\n",
       "      <td>6</td>\n",
       "      <td>7</td>\n",
       "    </tr>\n",
       "  </tbody>\n",
       "</table>\n",
       "</div>"
      ],
      "text/plain": [
       "   A  B  C  F\n",
       "0  1  2  3  4\n",
       "1  4  5  6  7"
      ]
     },
     "execution_count": 27,
     "metadata": {},
     "output_type": "execute_result"
    }
   ],
   "source": [
    "df = pd.DataFrame(data=np.array([[1,2,3,4], [4,5,6,7]], dtype=int), columns=['A', 'B', 'C','F'])\n",
    "df"
   ]
  }
 ],
 "metadata": {
  "kernelspec": {
   "display_name": "Python 3",
   "language": "python",
   "name": "python3"
  },
  "language_info": {
   "codemirror_mode": {
    "name": "ipython",
    "version": 3
   },
   "file_extension": ".py",
   "mimetype": "text/x-python",
   "name": "python",
   "nbconvert_exporter": "python",
   "pygments_lexer": "ipython3",
   "version": "3.6.1"
  }
 },
 "nbformat": 4,
 "nbformat_minor": 2
}
